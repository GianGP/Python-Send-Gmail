{
 "cells": [
  {
   "cell_type": "code",
   "execution_count": 6,
   "metadata": {},
   "outputs": [],
   "source": [
    "import smtplib\n",
    "from email.message import EmailMessage\n",
    "\n",
    "SENDER_EMAIL = \"user@gmail.com\"\n",
    "APP_PASSWORD = \"password\"\n",
    "\n",
    "def send_mail(recipient_email, subject='Python Email', content = 'This is the email', excel_file=None):\n",
    "    msg = EmailMessage()\n",
    "    msg['Subject'] = subject\n",
    "    msg['From'] = SENDER_EMAIL\n",
    "    msg['To'] = recipient_email\n",
    "    msg.set_content(content)\n",
    "    \n",
    "    if excel_file:\n",
    "        with open(excel_file, 'rb') as f:\n",
    "            file_data = f.read()\n",
    "        msg.add_attachment(file_data, maintype=\"application\", subtype=\"xlsx\", filename=excel_file)\n",
    "\n",
    "    with smtplib.SMTP_SSL('smtp.gmail.com', 465) as smtp:\n",
    "        smtp.login(SENDER_EMAIL, APP_PASSWORD)\n",
    "        smtp.send_message(msg)"
   ]
  },
  {
   "cell_type": "code",
   "execution_count": null,
   "metadata": {},
   "outputs": [],
   "source": []
  }
 ],
 "metadata": {
  "kernelspec": {
   "display_name": "Python 3",
   "language": "python",
   "name": "python3"
  },
  "language_info": {
   "codemirror_mode": {
    "name": "ipython",
    "version": 3
   },
   "file_extension": ".py",
   "mimetype": "text/x-python",
   "name": "python",
   "nbconvert_exporter": "python",
   "pygments_lexer": "ipython3",
   "version": "3.7.9"
  }
 },
 "nbformat": 4,
 "nbformat_minor": 4
}
